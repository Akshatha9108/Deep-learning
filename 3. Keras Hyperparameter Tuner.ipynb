{
 "cells": [
  {
   "cell_type": "code",
   "execution_count": 6,
   "id": "96885572",
   "metadata": {},
   "outputs": [],
   "source": [
    "\n",
    "import pandas as pd\n",
    "from tensorflow import keras\n",
    "from tensorflow.keras import layers\n",
    "from keras_tuner.tuners import RandomSearch"
   ]
  },
  {
   "cell_type": "code",
   "execution_count": 4,
   "id": "39ee6cb9",
   "metadata": {},
   "outputs": [
    {
     "name": "stdout",
     "output_type": "stream",
     "text": [
      "Collecting keras_tuner\n",
      "  Obtaining dependency information for keras_tuner from https://files.pythonhosted.org/packages/ba/86/914f0cf69d0131f78a0658086a959270bd3d6a5f74009145293aa880674d/keras_tuner-1.4.1-py3-none-any.whl.metadata\n",
      "  Downloading keras_tuner-1.4.1-py3-none-any.whl.metadata (5.4 kB)\n",
      "Collecting keras-core (from keras_tuner)\n",
      "  Obtaining dependency information for keras-core from https://files.pythonhosted.org/packages/95/f7/b8dcff937ea64f822f0d3fe8c6010793406b82d14467cd0e9eecea458a40/keras_core-0.1.7-py3-none-any.whl.metadata\n",
      "  Downloading keras_core-0.1.7-py3-none-any.whl.metadata (4.3 kB)\n",
      "Requirement already satisfied: packaging in c:\\users\\student\\.conda\\envs\\nndl-aksh009\\lib\\site-packages (from keras_tuner) (23.1)\n",
      "Requirement already satisfied: requests in c:\\users\\student\\.conda\\envs\\nndl-aksh009\\lib\\site-packages (from keras_tuner) (2.31.0)\n",
      "Collecting kt-legacy (from keras_tuner)\n",
      "  Using cached kt_legacy-1.0.5-py3-none-any.whl (9.6 kB)\n",
      "Requirement already satisfied: absl-py in c:\\users\\student\\appdata\\roaming\\python\\python39\\site-packages (from keras-core->keras_tuner) (1.4.0)\n",
      "Requirement already satisfied: numpy in c:\\users\\student\\appdata\\roaming\\python\\python39\\site-packages (from keras-core->keras_tuner) (1.24.3)\n",
      "Collecting rich (from keras-core->keras_tuner)\n",
      "  Obtaining dependency information for rich from https://files.pythonhosted.org/packages/c1/d1/23ba6235ed82883bb416f57179d1db2c05f3fb8e5d83c18660f9ab6f09c9/rich-13.5.3-py3-none-any.whl.metadata\n",
      "  Downloading rich-13.5.3-py3-none-any.whl.metadata (18 kB)\n",
      "Collecting namex (from keras-core->keras_tuner)\n",
      "  Downloading namex-0.0.7-py3-none-any.whl (5.8 kB)\n",
      "Requirement already satisfied: h5py in c:\\users\\student\\.conda\\envs\\nndl-aksh009\\lib\\site-packages (from keras-core->keras_tuner) (3.9.0)\n",
      "Collecting dm-tree (from keras-core->keras_tuner)\n",
      "  Downloading dm_tree-0.1.8-cp39-cp39-win_amd64.whl (101 kB)\n",
      "     ---------------------------------------- 0.0/101.5 kB ? eta -:--:--\n",
      "     ----------- --------------------------- 30.7/101.5 kB 1.4 MB/s eta 0:00:01\n",
      "     -------------------------- ---------- 71.7/101.5 kB 991.0 kB/s eta 0:00:01\n",
      "     ------------------------------------ 101.5/101.5 kB 980.9 kB/s eta 0:00:00\n",
      "Requirement already satisfied: charset-normalizer<4,>=2 in c:\\users\\student\\.conda\\envs\\nndl-aksh009\\lib\\site-packages (from requests->keras_tuner) (3.2.0)\n",
      "Requirement already satisfied: idna<4,>=2.5 in c:\\users\\student\\.conda\\envs\\nndl-aksh009\\lib\\site-packages (from requests->keras_tuner) (3.4)\n",
      "Requirement already satisfied: urllib3<3,>=1.21.1 in c:\\users\\student\\.conda\\envs\\nndl-aksh009\\lib\\site-packages (from requests->keras_tuner) (1.26.16)\n",
      "Requirement already satisfied: certifi>=2017.4.17 in c:\\users\\student\\.conda\\envs\\nndl-aksh009\\lib\\site-packages (from requests->keras_tuner) (2023.7.22)\n",
      "Collecting markdown-it-py>=2.2.0 (from rich->keras-core->keras_tuner)\n",
      "  Obtaining dependency information for markdown-it-py>=2.2.0 from https://files.pythonhosted.org/packages/42/d7/1ec15b46af6af88f19b8e5ffea08fa375d433c998b8a7639e76935c14f1f/markdown_it_py-3.0.0-py3-none-any.whl.metadata\n",
      "  Downloading markdown_it_py-3.0.0-py3-none-any.whl.metadata (6.9 kB)\n",
      "Requirement already satisfied: pygments<3.0.0,>=2.13.0 in c:\\users\\student\\.conda\\envs\\nndl-aksh009\\lib\\site-packages (from rich->keras-core->keras_tuner) (2.15.1)\n",
      "Collecting mdurl~=0.1 (from markdown-it-py>=2.2.0->rich->keras-core->keras_tuner)\n",
      "  Downloading mdurl-0.1.2-py3-none-any.whl (10.0 kB)\n",
      "Downloading keras_tuner-1.4.1-py3-none-any.whl (127 kB)\n",
      "   ---------------------------------------- 0.0/127.1 kB ? eta -:--:--\n",
      "   --------- ------------------------------ 30.7/127.1 kB 1.4 MB/s eta 0:00:01\n",
      "   --------------------- ----------------- 71.7/127.1 kB 991.0 kB/s eta 0:00:01\n",
      "   -------------------------------------- - 122.9/127.1 kB 1.0 MB/s eta 0:00:01\n",
      "   -------------------------------------- 127.1/127.1 kB 935.2 kB/s eta 0:00:00\n",
      "Downloading keras_core-0.1.7-py3-none-any.whl (950 kB)\n",
      "   ---------------------------------------- 0.0/950.8 kB ? eta -:--:--\n",
      "   - -------------------------------------- 30.7/950.8 kB 1.3 MB/s eta 0:00:01\n",
      "   -- ------------------------------------ 71.7/950.8 kB 975.2 kB/s eta 0:00:01\n",
      "   ---- --------------------------------- 112.6/950.8 kB 930.9 kB/s eta 0:00:01\n",
      "   ------ ------------------------------- 153.6/950.8 kB 913.1 kB/s eta 0:00:01\n",
      "   ------- ------------------------------ 194.6/950.8 kB 980.4 kB/s eta 0:00:01\n",
      "   ------- ------------------------------ 194.6/950.8 kB 980.4 kB/s eta 0:00:01\n",
      "   ------------ ------------------------- 307.2/950.8 kB 999.9 kB/s eta 0:00:01\n",
      "   ------------- ------------------------ 337.9/950.8 kB 999.0 kB/s eta 0:00:01\n",
      "   --------------- ---------------------- 389.1/950.8 kB 969.0 kB/s eta 0:00:01\n",
      "   ----------------- -------------------- 440.3/950.8 kB 981.9 kB/s eta 0:00:01\n",
      "   ------------------- ------------------ 481.3/950.8 kB 971.2 kB/s eta 0:00:01\n",
      "   --------------------- ---------------- 532.5/950.8 kB 981.7 kB/s eta 0:00:01\n",
      "   ----------------------- -------------- 583.7/950.8 kB 992.1 kB/s eta 0:00:01\n",
      "   ------------------------ ------------- 614.4/950.8 kB 966.7 kB/s eta 0:00:01\n",
      "   -------------------------- ----------- 665.6/950.8 kB 975.2 kB/s eta 0:00:01\n",
      "   ---------------------------- --------- 716.8/950.8 kB 982.7 kB/s eta 0:00:01\n",
      "   ------------------------------ ------- 757.8/950.8 kB 975.9 kB/s eta 0:00:01\n",
      "   -------------------------------- ----- 809.0/950.8 kB 982.4 kB/s eta 0:00:01\n",
      "   ---------------------------------- --- 860.2/950.8 kB 988.3 kB/s eta 0:00:01\n",
      "   ------------------------------------ - 901.1/950.8 kB 982.2 kB/s eta 0:00:01\n",
      "   -------------------------------------  942.1/950.8 kB 993.4 kB/s eta 0:00:01\n",
      "   -------------------------------------- 950.8/950.8 kB 970.7 kB/s eta 0:00:00\n",
      "Downloading rich-13.5.3-py3-none-any.whl (239 kB)\n",
      "   ---------------------------------------- 0.0/239.8 kB ? eta -:--:--\n",
      "   ----- ---------------------------------- 30.7/239.8 kB 1.4 MB/s eta 0:00:01\n",
      "   ----------- --------------------------- 71.7/239.8 kB 991.0 kB/s eta 0:00:01\n",
      "   -------------------- ------------------- 122.9/239.8 kB 1.0 MB/s eta 0:00:01\n",
      "   ----------------------------- ---------- 174.1/239.8 kB 1.1 MB/s eta 0:00:01\n",
      "   ------------------------------------- -- 225.3/239.8 kB 1.1 MB/s eta 0:00:01\n",
      "   -------------------------------------- 239.8/239.8 kB 980.9 kB/s eta 0:00:00\n",
      "Downloading markdown_it_py-3.0.0-py3-none-any.whl (87 kB)\n",
      "   ---------------------------------------- 0.0/87.5 kB ? eta -:--:--\n",
      "   -------------- ------------------------- 30.7/87.5 kB 1.3 MB/s eta 0:00:01\n",
      "   ------------------------------------- -- 81.9/87.5 kB 1.1 MB/s eta 0:00:01\n",
      "   ---------------------------------------- 87.5/87.5 kB 978.3 kB/s eta 0:00:00\n",
      "Installing collected packages: namex, kt-legacy, dm-tree, mdurl, markdown-it-py, rich, keras-core, keras_tuner\n",
      "Successfully installed dm-tree-0.1.8 keras-core-0.1.7 keras_tuner-1.4.1 kt-legacy-1.0.5 markdown-it-py-3.0.0 mdurl-0.1.2 namex-0.0.7 rich-13.5.3\n"
     ]
    }
   ],
   "source": [
    "!pip install keras_tuner\n"
   ]
  },
  {
   "cell_type": "code",
   "execution_count": 9,
   "id": "c3a53aad",
   "metadata": {},
   "outputs": [
    {
     "data": {
      "text/html": [
       "<div>\n",
       "<style scoped>\n",
       "    .dataframe tbody tr th:only-of-type {\n",
       "        vertical-align: middle;\n",
       "    }\n",
       "\n",
       "    .dataframe tbody tr th {\n",
       "        vertical-align: top;\n",
       "    }\n",
       "\n",
       "    .dataframe thead th {\n",
       "        text-align: right;\n",
       "    }\n",
       "</style>\n",
       "<table border=\"1\" class=\"dataframe\">\n",
       "  <thead>\n",
       "    <tr style=\"text-align: right;\">\n",
       "      <th></th>\n",
       "      <th>T</th>\n",
       "      <th>TM</th>\n",
       "      <th>Tm</th>\n",
       "      <th>SLP</th>\n",
       "      <th>H</th>\n",
       "      <th>VV</th>\n",
       "      <th>V</th>\n",
       "      <th>VM</th>\n",
       "      <th>PM 2.5</th>\n",
       "    </tr>\n",
       "  </thead>\n",
       "  <tbody>\n",
       "    <tr>\n",
       "      <th>0</th>\n",
       "      <td>7.4</td>\n",
       "      <td>9.8</td>\n",
       "      <td>4.8</td>\n",
       "      <td>1017.6</td>\n",
       "      <td>93.0</td>\n",
       "      <td>0.5</td>\n",
       "      <td>4.3</td>\n",
       "      <td>9.4</td>\n",
       "      <td>219.720833</td>\n",
       "    </tr>\n",
       "    <tr>\n",
       "      <th>1</th>\n",
       "      <td>7.8</td>\n",
       "      <td>12.7</td>\n",
       "      <td>4.4</td>\n",
       "      <td>1018.5</td>\n",
       "      <td>87.0</td>\n",
       "      <td>0.6</td>\n",
       "      <td>4.4</td>\n",
       "      <td>11.1</td>\n",
       "      <td>182.187500</td>\n",
       "    </tr>\n",
       "    <tr>\n",
       "      <th>2</th>\n",
       "      <td>6.7</td>\n",
       "      <td>13.4</td>\n",
       "      <td>2.4</td>\n",
       "      <td>1019.4</td>\n",
       "      <td>82.0</td>\n",
       "      <td>0.6</td>\n",
       "      <td>4.8</td>\n",
       "      <td>11.1</td>\n",
       "      <td>154.037500</td>\n",
       "    </tr>\n",
       "    <tr>\n",
       "      <th>3</th>\n",
       "      <td>8.6</td>\n",
       "      <td>15.5</td>\n",
       "      <td>3.3</td>\n",
       "      <td>1018.7</td>\n",
       "      <td>72.0</td>\n",
       "      <td>0.8</td>\n",
       "      <td>8.1</td>\n",
       "      <td>20.6</td>\n",
       "      <td>223.208333</td>\n",
       "    </tr>\n",
       "    <tr>\n",
       "      <th>4</th>\n",
       "      <td>12.4</td>\n",
       "      <td>20.9</td>\n",
       "      <td>4.4</td>\n",
       "      <td>1017.3</td>\n",
       "      <td>61.0</td>\n",
       "      <td>1.3</td>\n",
       "      <td>8.7</td>\n",
       "      <td>22.2</td>\n",
       "      <td>200.645833</td>\n",
       "    </tr>\n",
       "  </tbody>\n",
       "</table>\n",
       "</div>"
      ],
      "text/plain": [
       "      T    TM   Tm     SLP     H   VV    V    VM      PM 2.5\n",
       "0   7.4   9.8  4.8  1017.6  93.0  0.5  4.3   9.4  219.720833\n",
       "1   7.8  12.7  4.4  1018.5  87.0  0.6  4.4  11.1  182.187500\n",
       "2   6.7  13.4  2.4  1019.4  82.0  0.6  4.8  11.1  154.037500\n",
       "3   8.6  15.5  3.3  1018.7  72.0  0.8  8.1  20.6  223.208333\n",
       "4  12.4  20.9  4.4  1017.3  61.0  1.3  8.7  22.2  200.645833"
      ]
     },
     "execution_count": 9,
     "metadata": {},
     "output_type": "execute_result"
    }
   ],
   "source": [
    "df = pd.read_csv('Real_Combine.csv')\n",
    "df.head()"
   ]
  },
  {
   "cell_type": "code",
   "execution_count": 10,
   "id": "9f8f6a0a",
   "metadata": {},
   "outputs": [
    {
     "data": {
      "text/plain": [
       "T         0\n",
       "TM        0\n",
       "Tm        0\n",
       "SLP       0\n",
       "H         0\n",
       "VV        0\n",
       "V         0\n",
       "VM        0\n",
       "PM 2.5    1\n",
       "dtype: int64"
      ]
     },
     "execution_count": 10,
     "metadata": {},
     "output_type": "execute_result"
    }
   ],
   "source": [
    "df.isnull().sum()"
   ]
  },
  {
   "cell_type": "code",
   "execution_count": 15,
   "id": "15fbfa0f",
   "metadata": {},
   "outputs": [
    {
     "data": {
      "text/plain": [
       "T         0\n",
       "TM        0\n",
       "Tm        0\n",
       "SLP       0\n",
       "H         0\n",
       "VV        0\n",
       "V         0\n",
       "VM        0\n",
       "PM 2.5    0\n",
       "dtype: int64"
      ]
     },
     "execution_count": 15,
     "metadata": {},
     "output_type": "execute_result"
    }
   ],
   "source": [
    "df=df.dropna()\n",
    "df.isnull().sum()"
   ]
  },
  {
   "cell_type": "code",
   "execution_count": 16,
   "id": "416e48ac",
   "metadata": {},
   "outputs": [],
   "source": [
    "# Creation of feature set and target set\n",
    "x=df.iloc[:,:-1]\n",
    "y=df.iloc[:,-1]"
   ]
  },
  {
   "cell_type": "code",
   "execution_count": 17,
   "id": "9c7423a8",
   "metadata": {},
   "outputs": [],
   "source": [
    "def hyper_tune(param):\n",
    "    model = keras.Sequential()\n",
    "    for i in range(param.Int('num_layers' ,2,20)):\n",
    "        model.add(layers.Dense(units=param.Int('units_'+str(i),\n",
    "                                              min_value=32,\n",
    "                                              max_value=512,\n",
    "                                              step=32),\n",
    "                              activation='tanh'))\n",
    "    model.add(layers.Dense(1,activation='linear'))\n",
    "    model.compile(\n",
    "        optimizer=keras.optimizers.Adam(param.Choice('learning_rate' , [1e-2 , 1e-3, 1e-4])),\n",
    "        loss='mean_absolute_error',\n",
    "        metrics=['mean_absolute_error'])\n",
    "    return model"
   ]
  },
  {
   "cell_type": "code",
   "execution_count": 20,
   "id": "3790593c",
   "metadata": {},
   "outputs": [],
   "source": [
    "tuner = RandomSearch(\n",
    "    hyper_tune,\n",
    "    objective='val_mean_absolute_error',\n",
    "    max_trials=5,\n",
    "    executions_per_trial=3,\n",
    "    directory='project',\n",
    "    overwrite=True,\n",
    "    project_name = 'Air Quality Index AQI'\n",
    ")"
   ]
  },
  {
   "cell_type": "code",
   "execution_count": 21,
   "id": "356e307b",
   "metadata": {},
   "outputs": [
    {
     "name": "stdout",
     "output_type": "stream",
     "text": [
      "Search space summary\n",
      "Default search space size: 4\n",
      "num_layers (Int)\n",
      "{'default': None, 'conditions': [], 'min_value': 2, 'max_value': 20, 'step': 1, 'sampling': 'linear'}\n",
      "units_0 (Int)\n",
      "{'default': None, 'conditions': [], 'min_value': 32, 'max_value': 512, 'step': 32, 'sampling': 'linear'}\n",
      "units_1 (Int)\n",
      "{'default': None, 'conditions': [], 'min_value': 32, 'max_value': 512, 'step': 32, 'sampling': 'linear'}\n",
      "learning_rate (Choice)\n",
      "{'default': 0.01, 'conditions': [], 'values': [0.01, 0.001, 0.0001], 'ordered': True}\n"
     ]
    }
   ],
   "source": [
    "tuner.search_space_summary() "
   ]
  },
  {
   "cell_type": "code",
   "execution_count": null,
   "id": "481f63d7",
   "metadata": {},
   "outputs": [],
   "source": []
  }
 ],
 "metadata": {
  "kernelspec": {
   "display_name": "Python 3 (ipykernel)",
   "language": "python",
   "name": "python3"
  },
  "language_info": {
   "codemirror_mode": {
    "name": "ipython",
    "version": 3
   },
   "file_extension": ".py",
   "mimetype": "text/x-python",
   "name": "python",
   "nbconvert_exporter": "python",
   "pygments_lexer": "ipython3",
   "version": "3.9.18"
  }
 },
 "nbformat": 4,
 "nbformat_minor": 5
}
