{
 "cells": [
  {
   "cell_type": "code",
   "execution_count": 4,
   "id": "ae5b958c",
   "metadata": {},
   "outputs": [],
   "source": [
    "from sklearn import datasets\n",
    "from sklearn.model_selection import train_test_split\n",
    "from keras.utils import to_categorical\n",
    "from keras.models import Sequential\n",
    "from keras.layers import Conv2D,MaxPooling2D,Flatten,Dense\n",
    "from keras.callbacks import EarlyStopping,ModelCheckpoint\n",
    "import matplotlib.pyplot as plt"
   ]
  },
  {
   "cell_type": "code",
   "execution_count": 5,
   "id": "2170ab9f",
   "metadata": {},
   "outputs": [],
   "source": [
    "data=datasets.load_digits()\n",
    "x=data.images\n",
    "y=data.target"
   ]
  },
  {
   "cell_type": "code",
   "execution_count": 6,
   "id": "1d9a36eb",
   "metadata": {},
   "outputs": [],
   "source": [
    "#Preprocess the data\n",
    "x=x.reshape((x.shape[0],8,8,1)) #(number of samples,dimension)\n",
    "x=x.astype('float32')/225 #scaling bcz 0-255 is pixel\n",
    "y=to_categorical(y)"
   ]
  },
  {
   "cell_type": "code",
   "execution_count": 7,
   "id": "24fbdb5b",
   "metadata": {},
   "outputs": [],
   "source": [
    "x_train,x_test,y_train,y_test=train_test_split(x,y,test_size=0.2)"
   ]
  },
  {
   "cell_type": "code",
   "execution_count": 13,
   "id": "7745faf6",
   "metadata": {},
   "outputs": [],
   "source": [
    "model=Sequential()\n",
    "model.add(Conv2D(32,kernel_size=(3,3), activation='relu',input_shape=(8,8,1)))#convulution opration where 32--no of filter\n",
    "model.add(MaxPooling2D(pool_size=(2,2)))\n",
    "model.add(Flatten())\n",
    "model.add(Dense(64, activation='relu'))\n",
    "model.add(Dense(10,activation='softmax'))"
   ]
  },
  {
   "cell_type": "code",
   "execution_count": 16,
   "id": "078e88ff",
   "metadata": {},
   "outputs": [],
   "source": [
    "model.compile(optimizer='adam',loss='categorical_crossentropy',metrics=['accuracy'])"
   ]
  },
  {
   "cell_type": "code",
   "execution_count": 18,
   "id": "90b45c60",
   "metadata": {},
   "outputs": [],
   "source": [
    "earlystop=EarlyStopping(monitor='val_loss',patience=10)\n",
    "best_weights=ModelCheckpoint('best_weights.h5',save_best_only=True,monitor='val_loss', mode='min')"
   ]
  },
  {
   "cell_type": "code",
   "execution_count": 31,
   "id": "28dc7770",
   "metadata": {},
   "outputs": [
    {
     "name": "stdout",
     "output_type": "stream",
     "text": [
      "Epoch 1/50\n",
      "45/45 [==============================] - 1s 4ms/step - loss: 2.2815 - accuracy: 0.3013 - val_loss: 2.2534 - val_accuracy: 0.3139\n",
      "Epoch 2/50\n",
      "45/45 [==============================] - 0s 2ms/step - loss: 2.1887 - accuracy: 0.4962 - val_loss: 2.1027 - val_accuracy: 0.6333\n",
      "Epoch 3/50\n",
      "45/45 [==============================] - 0s 2ms/step - loss: 1.9583 - accuracy: 0.6180 - val_loss: 1.7829 - val_accuracy: 0.7361\n"
     ]
    },
    {
     "name": "stderr",
     "output_type": "stream",
     "text": [
      "C:\\Users\\Student\\AppData\\Roaming\\Python\\Python39\\site-packages\\keras\\src\\engine\\training.py:3000: UserWarning: You are saving your model as an HDF5 file via `model.save()`. This file format is considered legacy. We recommend using instead the native Keras format, e.g. `model.save('my_model.keras')`.\n",
      "  saving_api.save_model(\n"
     ]
    },
    {
     "name": "stdout",
     "output_type": "stream",
     "text": [
      "Epoch 4/50\n",
      "45/45 [==============================] - 0s 2ms/step - loss: 1.5858 - accuracy: 0.7516 - val_loss: 1.3735 - val_accuracy: 0.7806\n",
      "Epoch 5/50\n",
      "45/45 [==============================] - 0s 2ms/step - loss: 1.1884 - accuracy: 0.8135 - val_loss: 1.0274 - val_accuracy: 0.8028\n",
      "Epoch 6/50\n",
      "45/45 [==============================] - 0s 2ms/step - loss: 0.8932 - accuracy: 0.8406 - val_loss: 0.7824 - val_accuracy: 0.8694\n",
      "Epoch 7/50\n",
      "45/45 [==============================] - 0s 2ms/step - loss: 0.7136 - accuracy: 0.8601 - val_loss: 0.6290 - val_accuracy: 0.8667\n",
      "Epoch 8/50\n",
      "45/45 [==============================] - 0s 2ms/step - loss: 0.5930 - accuracy: 0.8622 - val_loss: 0.5277 - val_accuracy: 0.8944\n",
      "Epoch 9/50\n",
      "45/45 [==============================] - 0s 2ms/step - loss: 0.5179 - accuracy: 0.8768 - val_loss: 0.4685 - val_accuracy: 0.9083\n",
      "Epoch 10/50\n",
      "45/45 [==============================] - 0s 2ms/step - loss: 0.4622 - accuracy: 0.8949 - val_loss: 0.4138 - val_accuracy: 0.9278\n",
      "Epoch 11/50\n",
      "45/45 [==============================] - 0s 2ms/step - loss: 0.4229 - accuracy: 0.8970 - val_loss: 0.3826 - val_accuracy: 0.9028\n",
      "Epoch 12/50\n",
      "45/45 [==============================] - 0s 2ms/step - loss: 0.3790 - accuracy: 0.9109 - val_loss: 0.3393 - val_accuracy: 0.9333\n",
      "Epoch 13/50\n",
      "45/45 [==============================] - 0s 2ms/step - loss: 0.3465 - accuracy: 0.9186 - val_loss: 0.3179 - val_accuracy: 0.9333\n",
      "Epoch 14/50\n",
      "45/45 [==============================] - 0s 2ms/step - loss: 0.3258 - accuracy: 0.9158 - val_loss: 0.2979 - val_accuracy: 0.9222\n",
      "Epoch 15/50\n",
      "45/45 [==============================] - 0s 2ms/step - loss: 0.3054 - accuracy: 0.9123 - val_loss: 0.2849 - val_accuracy: 0.9278\n",
      "Epoch 16/50\n",
      "45/45 [==============================] - 0s 2ms/step - loss: 0.2863 - accuracy: 0.9290 - val_loss: 0.2696 - val_accuracy: 0.9333\n",
      "Epoch 17/50\n",
      "45/45 [==============================] - 0s 2ms/step - loss: 0.2672 - accuracy: 0.9318 - val_loss: 0.2493 - val_accuracy: 0.9361\n",
      "Epoch 18/50\n",
      "45/45 [==============================] - 0s 2ms/step - loss: 0.2534 - accuracy: 0.9367 - val_loss: 0.2317 - val_accuracy: 0.9500\n",
      "Epoch 19/50\n",
      "45/45 [==============================] - 0s 2ms/step - loss: 0.2400 - accuracy: 0.9408 - val_loss: 0.2301 - val_accuracy: 0.9556\n",
      "Epoch 20/50\n",
      "45/45 [==============================] - 0s 2ms/step - loss: 0.2294 - accuracy: 0.9402 - val_loss: 0.2106 - val_accuracy: 0.9528\n",
      "Epoch 21/50\n",
      "45/45 [==============================] - 0s 2ms/step - loss: 0.2157 - accuracy: 0.9471 - val_loss: 0.2090 - val_accuracy: 0.9417\n",
      "Epoch 22/50\n",
      "45/45 [==============================] - 0s 2ms/step - loss: 0.2091 - accuracy: 0.9457 - val_loss: 0.1896 - val_accuracy: 0.9611\n",
      "Epoch 23/50\n",
      "45/45 [==============================] - 0s 2ms/step - loss: 0.2006 - accuracy: 0.9471 - val_loss: 0.1855 - val_accuracy: 0.9667\n",
      "Epoch 24/50\n",
      "45/45 [==============================] - 0s 2ms/step - loss: 0.1926 - accuracy: 0.9541 - val_loss: 0.1823 - val_accuracy: 0.9556\n",
      "Epoch 25/50\n",
      "45/45 [==============================] - 0s 2ms/step - loss: 0.1834 - accuracy: 0.9534 - val_loss: 0.1772 - val_accuracy: 0.9528\n",
      "Epoch 26/50\n",
      "45/45 [==============================] - 0s 2ms/step - loss: 0.1737 - accuracy: 0.9596 - val_loss: 0.1663 - val_accuracy: 0.9611\n",
      "Epoch 27/50\n",
      "45/45 [==============================] - 0s 2ms/step - loss: 0.1677 - accuracy: 0.9596 - val_loss: 0.1637 - val_accuracy: 0.9583\n",
      "Epoch 28/50\n",
      "45/45 [==============================] - 0s 2ms/step - loss: 0.1626 - accuracy: 0.9610 - val_loss: 0.1582 - val_accuracy: 0.9556\n",
      "Epoch 29/50\n",
      "45/45 [==============================] - 0s 2ms/step - loss: 0.1572 - accuracy: 0.9617 - val_loss: 0.1558 - val_accuracy: 0.9583\n",
      "Epoch 30/50\n",
      "45/45 [==============================] - 0s 2ms/step - loss: 0.1522 - accuracy: 0.9624 - val_loss: 0.1485 - val_accuracy: 0.9639\n",
      "Epoch 31/50\n",
      "45/45 [==============================] - 0s 2ms/step - loss: 0.1459 - accuracy: 0.9645 - val_loss: 0.1432 - val_accuracy: 0.9694\n",
      "Epoch 32/50\n",
      "45/45 [==============================] - 0s 2ms/step - loss: 0.1393 - accuracy: 0.9645 - val_loss: 0.1372 - val_accuracy: 0.9667\n",
      "Epoch 33/50\n",
      "45/45 [==============================] - 0s 2ms/step - loss: 0.1369 - accuracy: 0.9659 - val_loss: 0.1380 - val_accuracy: 0.9722\n",
      "Epoch 34/50\n",
      "45/45 [==============================] - 0s 2ms/step - loss: 0.1289 - accuracy: 0.9666 - val_loss: 0.1286 - val_accuracy: 0.9667\n",
      "Epoch 35/50\n",
      "45/45 [==============================] - 0s 2ms/step - loss: 0.1280 - accuracy: 0.9687 - val_loss: 0.1360 - val_accuracy: 0.9611\n",
      "Epoch 36/50\n",
      "45/45 [==============================] - 0s 2ms/step - loss: 0.1257 - accuracy: 0.9701 - val_loss: 0.1338 - val_accuracy: 0.9583\n",
      "Epoch 37/50\n",
      "45/45 [==============================] - 0s 2ms/step - loss: 0.1193 - accuracy: 0.9708 - val_loss: 0.1240 - val_accuracy: 0.9694\n",
      "Epoch 38/50\n",
      "45/45 [==============================] - 0s 2ms/step - loss: 0.1136 - accuracy: 0.9729 - val_loss: 0.1204 - val_accuracy: 0.9722\n",
      "Epoch 39/50\n",
      "45/45 [==============================] - 0s 2ms/step - loss: 0.1120 - accuracy: 0.9708 - val_loss: 0.1214 - val_accuracy: 0.9750\n",
      "Epoch 40/50\n",
      "45/45 [==============================] - 0s 2ms/step - loss: 0.1092 - accuracy: 0.9729 - val_loss: 0.1147 - val_accuracy: 0.9750\n",
      "Epoch 41/50\n",
      "45/45 [==============================] - 0s 2ms/step - loss: 0.1075 - accuracy: 0.9715 - val_loss: 0.1116 - val_accuracy: 0.9750\n",
      "Epoch 42/50\n",
      "45/45 [==============================] - 0s 2ms/step - loss: 0.1032 - accuracy: 0.9743 - val_loss: 0.1237 - val_accuracy: 0.9583\n",
      "Epoch 43/50\n",
      "45/45 [==============================] - 0s 2ms/step - loss: 0.1014 - accuracy: 0.9736 - val_loss: 0.1065 - val_accuracy: 0.9694\n",
      "Epoch 44/50\n",
      "45/45 [==============================] - 0s 2ms/step - loss: 0.0951 - accuracy: 0.9784 - val_loss: 0.1110 - val_accuracy: 0.9667\n",
      "Epoch 45/50\n",
      "45/45 [==============================] - 0s 2ms/step - loss: 0.0936 - accuracy: 0.9770 - val_loss: 0.1087 - val_accuracy: 0.9722\n",
      "Epoch 46/50\n",
      "45/45 [==============================] - 0s 2ms/step - loss: 0.0905 - accuracy: 0.9784 - val_loss: 0.1138 - val_accuracy: 0.9722\n",
      "Epoch 47/50\n",
      "45/45 [==============================] - 0s 1ms/step - loss: 0.0898 - accuracy: 0.9791 - val_loss: 0.1073 - val_accuracy: 0.9722\n",
      "Epoch 48/50\n",
      "45/45 [==============================] - 0s 2ms/step - loss: 0.0864 - accuracy: 0.9749 - val_loss: 0.1021 - val_accuracy: 0.9750\n",
      "Epoch 49/50\n",
      "45/45 [==============================] - 0s 2ms/step - loss: 0.0840 - accuracy: 0.9777 - val_loss: 0.1129 - val_accuracy: 0.9611\n",
      "Epoch 50/50\n",
      "45/45 [==============================] - 0s 2ms/step - loss: 0.0805 - accuracy: 0.9784 - val_loss: 0.1005 - val_accuracy: 0.9750\n"
     ]
    }
   ],
   "source": [
    "history=model.fit(x_train,y_train,epochs=50,batch_size=32,validation_data=(x_test,y_test),\n",
    "                 callbacks=[earlystop,best_weights]) #last can be skip"
   ]
  },
  {
   "cell_type": "code",
   "execution_count": 34,
   "id": "18d4abb6",
   "metadata": {},
   "outputs": [
    {
     "data": {
      "image/png": "[encoded data removed]",
      "text/plain": [
       "<Figure size 640x480 with 1 Axes>"
      ]
     },
     "metadata": {},
     "output_type": "display_data"
    },
    {
     "data": {
      "image/png": "[encoded data removed]",
      "text/plain": [
       "<Figure size 640x480 with 1 Axes>"
      ]
     },
     "metadata": {},
     "output_type": "display_data"
    }
   ],
   "source": [
    "plt.plot(history.history['val_loss'])\n",
    "plt.title('Validation loss')\n",
    "plt.ylabel('Loss')\n",
    "plt.xlabel('Epoch')\n",
    "plt.show()\n",
    "\n",
    "plt.plot(history.history['val_loss'])\n",
    "plt.title('Valid')\n",
    "plt.ylabel('Loss')\n",
    "plt.xlabel('Accuracy')\n",
    "plt.show()\n"
   ]
  },
  {
   "cell_type": "code",
   "execution_count": 32,
   "id": "3fc98ef6",
   "metadata": {},
   "outputs": [],
   "source": [
    "model.load_weights(\"best_weights.h5\")\n"
   ]
  },
  {
   "cell_type": "code",
   "execution_count": 35,
   "id": "e62a3725",
   "metadata": {},
   "outputs": [
    {
     "name": "stdout",
     "output_type": "stream",
     "text": [
      "test Loss 0.10047399997711182\n",
      "test Accuracy 0.9750000238418579\n"
     ]
    }
   ],
   "source": [
    "test_loss,test_acc=model.evaluate(x_test,y_test,verbose=0)\n",
    "print(\"test Loss\",test_loss)\n",
    "print(\"test Accuracy\",test_acc)"
   ]
  },
  {
   "cell_type": "code",
   "execution_count": null,
   "id": "b3f1a031",
   "metadata": {},
   "outputs": [],
   "source": []
  }
 ],
 "metadata": {
  "kernelspec": {
   "display_name": "Python 3 (ipykernel)",
   "language": "python",
   "name": "python3"
  },
  "language_info": {
   "codemirror_mode": {
    "name": "ipython",
    "version": 3
   },
   "file_extension": ".py",
   "mimetype": "text/x-python",
   "name": "python",
   "nbconvert_exporter": "python",
   "pygments_lexer": "ipython3",
   "version": "3.9.13"
  }
 },
 "nbformat": 4,
 "nbformat_minor": 5
}
