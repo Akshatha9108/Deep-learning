{
 "cells": [
  {
   "cell_type": "code",
   "execution_count": 1,
   "id": "cf856c86",
   "metadata": {},
   "outputs": [],
   "source": [
    "# DAta augmentation for cnn\n",
    "###can needs more for training\n",
    "##take 4-5 instances and then regerate image is known as data augmentation,will get more data for better prediction'\n",
    "##less real data image,generateing systentic images will result in overfitting\n",
    "##cnn expects 4D= np.expand_dims(objects,-1)\n",
    "\n",
    "##performing training using x-train the problm occurs w_new-w_old(\n"
   ]
  },
  {
   "cell_type": "code",
   "execution_count": 4,
   "id": "42054799",
   "metadata": {},
   "outputs": [],
   "source": [
    "import numpy as np\n",
    "import tensorflow as tf\n",
    "from tensorflow import keras\n",
    "from tensorflow.keras import layers\n",
    "from tensorflow.keras.preprocessing.image import ImageDataGenerator\n"
   ]
  },
  {
   "cell_type": "code",
   "execution_count": 5,
   "id": "379e4428",
   "metadata": {},
   "outputs": [
    {
     "ename": "AttributeError",
     "evalue": "module 'keras.api._v2.keras.layers' has no attribute 'con2D'",
     "output_type": "error",
     "traceback": [
      "\u001b[1;31m---------------------------------------------------------------------------\u001b[0m",
      "\u001b[1;31mAttributeError\u001b[0m                            Traceback (most recent call last)",
      "\u001b[1;32m~\\AppData\\Local\\Temp\\ipykernel_15416\\362305850.py\u001b[0m in \u001b[0;36m<module>\u001b[1;34m\u001b[0m\n\u001b[0;32m      2\u001b[0m [\n\u001b[0;32m      3\u001b[0m \u001b[1;33m\u001b[0m\u001b[0m\n\u001b[1;32m----> 4\u001b[1;33m     \u001b[0mlayers\u001b[0m\u001b[1;33m.\u001b[0m\u001b[0mcon2D\u001b[0m\u001b[1;33m(\u001b[0m\u001b[1;36m32\u001b[0m\u001b[1;33m,\u001b[0m\u001b[1;33m(\u001b[0m\u001b[1;36m3\u001b[0m\u001b[1;33m,\u001b[0m\u001b[1;36m3\u001b[0m\u001b[1;33m)\u001b[0m\u001b[1;33m,\u001b[0m\u001b[0mactivation\u001b[0m\u001b[1;33m=\u001b[0m\u001b[1;34m\"relu\"\u001b[0m\u001b[1;33m,\u001b[0m\u001b[0mpadding\u001b[0m\u001b[1;33m=\u001b[0m\u001b[1;34m\"same\"\u001b[0m\u001b[1;33m,\u001b[0m\u001b[0minput_shape\u001b[0m\u001b[1;33m=\u001b[0m\u001b[0mlayers\u001b[0m\u001b[1;33m)\u001b[0m\u001b[1;33m\u001b[0m\u001b[1;33m\u001b[0m\u001b[0m\n\u001b[0m\u001b[0;32m      5\u001b[0m ])\n",
      "\u001b[1;31mAttributeError\u001b[0m: module 'keras.api._v2.keras.layers' has no attribute 'con2D'"
     ]
    }
   ],
   "source": [
    "model=keras.Sequential(\n",
    "[\n",
    "    \n",
    "    layers.con2D(32,(3,3),activation=\"relu\",padding=\"same\",input_shape=layers)\n",
    "    layers.MaxPooling2D(pool_size=())\n",
    "])"
   ]
  },
  {
   "cell_type": "code",
   "execution_count": 7,
   "id": "23527bdc",
   "metadata": {},
   "outputs": [],
   "source": [
    "(x_train,y_train),(x_test,y_test)=keras.datasets.mnist.load_data()\n",
    "\n",
    "#Scale the images to the[0,1]range\n",
    "\n",
    "x_train=x_train.astype(\"float32\")/255\n",
    "x_test=x_test.astype(\"float32\")/255\n",
    "\n",
    "x_train,x_val=x_train[:5000],x_train[5000:]\n",
    "y_train,y_val=y_train[:5000],y_train[5000:]"
   ]
  },
  {
   "cell_type": "code",
   "execution_count": null,
   "id": "933cfd86",
   "metadata": {},
   "outputs": [],
   "source": [
    "datagen=ImageDataGenerator(\n",
    "rotation_range=10,\n",
    "zoom_range=0.1,\n",
    "width_shift_range=0.1,\n",
    "shear_range=0.1,\n",
    "horizontal_flip=False,\n",
    "    vertical_flip=False,\n",
    ")"
   ]
  },
  {
   "cell_type": "code",
   "execution_count": null,
   "id": "dd12dc64",
   "metadata": {},
   "outputs": [],
   "source": [
    "#Augmentation\n",
    "model.compile(loss=\"sparse_Catagorical_crossentropy\",optimizer=\"Adam\",metrics=[\"accuracy\"])"
   ]
  }
 ],
 "metadata": {
  "kernelspec": {
   "display_name": "Python 3 (ipykernel)",
   "language": "python",
   "name": "python3"
  },
  "language_info": {
   "codemirror_mode": {
    "name": "ipython",
    "version": 3
   },
   "file_extension": ".py",
   "mimetype": "text/x-python",
   "name": "python",
   "nbconvert_exporter": "python",
   "pygments_lexer": "ipython3",
   "version": "3.9.13"
  }
 },
 "nbformat": 4,
 "nbformat_minor": 5
}
