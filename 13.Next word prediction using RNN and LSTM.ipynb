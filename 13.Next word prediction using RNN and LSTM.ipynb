{
 "cells": [
  {
   "cell_type": "markdown",
   "id": "9441c698",
   "metadata": {},
   "source": [
    "# using Basic RNN"
   ]
  },
  {
   "cell_type": "code",
   "execution_count": 1,
   "id": "8d702cf8",
   "metadata": {},
   "outputs": [],
   "source": [
    "import tensorflow as tf\n",
    "import numpy as np\n",
    "\n"
   ]
  },
  {
   "cell_type": "code",
   "execution_count": 3,
   "id": "cf14510f",
   "metadata": {},
   "outputs": [],
   "source": [
    "# Sample text data\n",
    "text = \"This is a sample text used to demonstrate predictive text with basic RNNs. In this example, we'll predict the next word as you type.\""
   ]
  },
  {
   "cell_type": "code",
   "execution_count": 4,
   "id": "51ebfe00",
   "metadata": {},
   "outputs": [],
   "source": [
    "#preprocess the text and create a vocabulary\n",
    "\n",
    "tokenizer=tf.keras.layers.TextVectorization()\n",
    "tokenizer.adapt(text.split())"
   ]
  },
  {
   "cell_type": "code",
   "execution_count": 5,
   "id": "e0e0b817",
   "metadata": {},
   "outputs": [
    {
     "data": {
      "text/plain": [
       "<tf.Tensor: shape=(24,), dtype=int64, numpy=\n",
       "array([ 2, 17, 23, 12,  3,  8, 10, 20, 14,  3,  6, 21, 13, 18,  2, 19,  7,\n",
       "       15, 11, 16,  5, 22,  4,  9], dtype=int64)>"
      ]
     },
     "execution_count": 5,
     "metadata": {},
     "output_type": "execute_result"
    }
   ],
   "source": [
    "#convert text to sequences of token indices'\n",
    "\n",
    "text_sequences=tokenizer(text)\n",
    "text_sequences"
   ]
  },
  {
   "cell_type": "code",
   "execution_count": 6,
   "id": "a1d52693",
   "metadata": {},
   "outputs": [],
   "source": [
    "#create training data(x) and target data (y)\n",
    "x=text_sequences[:-1]\n",
    "y=text_sequences[1:]"
   ]
  },
  {
   "cell_type": "code",
   "execution_count": 9,
   "id": "d168fa17",
   "metadata": {},
   "outputs": [],
   "source": [
    "model=tf.keras.Sequential([\n",
    "    tf.keras.layers.Embedding(input_dim=len(tokenizer.get_vocabulary()),output_dim=64,input_length=1),\n",
    "    tf.keras.layers.SimpleRNN(128,return_sequences=True),\n",
    "    tf.keras.layers.Dense(len(tokenizer.get_vocabulary()),activation='softmax')\n",
    "])"
   ]
  },
  {
   "cell_type": "code",
   "execution_count": 11,
   "id": "e58578cd",
   "metadata": {},
   "outputs": [],
   "source": [
    "model.compile(loss='sparse_categorical_crossentropy',optimizer='adam')"
   ]
  },
  {
   "cell_type": "code",
   "execution_count": 12,
   "id": "2377f8e4",
   "metadata": {},
   "outputs": [
    {
     "name": "stdout",
     "output_type": "stream",
     "text": [
      "Epoch 1/50\n",
      "1/1 [==============================] - 1s 512ms/step - loss: 3.1718\n",
      "Epoch 2/50\n",
      "1/1 [==============================] - 0s 9ms/step - loss: 3.1572\n",
      "Epoch 3/50\n",
      "1/1 [==============================] - 0s 0s/step - loss: 3.1426\n",
      "Epoch 4/50\n",
      "1/1 [==============================] - 0s 0s/step - loss: 3.1280\n",
      "Epoch 5/50\n",
      "1/1 [==============================] - 0s 8ms/step - loss: 3.1132\n",
      "Epoch 6/50\n",
      "1/1 [==============================] - 0s 0s/step - loss: 3.0984\n",
      "Epoch 7/50\n",
      "1/1 [==============================] - 0s 9ms/step - loss: 3.0835\n",
      "Epoch 8/50\n",
      "1/1 [==============================] - 0s 0s/step - loss: 3.0683\n",
      "Epoch 9/50\n",
      "1/1 [==============================] - 0s 0s/step - loss: 3.0530\n",
      "Epoch 10/50\n",
      "1/1 [==============================] - 0s 0s/step - loss: 3.0374\n",
      "Epoch 11/50\n",
      "1/1 [==============================] - 0s 0s/step - loss: 3.0216\n",
      "Epoch 12/50\n",
      "1/1 [==============================] - 0s 2ms/step - loss: 3.0054\n",
      "Epoch 13/50\n",
      "1/1 [==============================] - 0s 0s/step - loss: 2.9888\n",
      "Epoch 14/50\n",
      "1/1 [==============================] - 0s 0s/step - loss: 2.9719\n",
      "Epoch 15/50\n",
      "1/1 [==============================] - 0s 0s/step - loss: 2.9545\n",
      "Epoch 16/50\n",
      "1/1 [==============================] - 0s 0s/step - loss: 2.9367\n",
      "Epoch 17/50\n",
      "1/1 [==============================] - 0s 16ms/step - loss: 2.9184\n",
      "Epoch 18/50\n",
      "1/1 [==============================] - 0s 0s/step - loss: 2.8995\n",
      "Epoch 19/50\n",
      "1/1 [==============================] - 0s 0s/step - loss: 2.8801\n",
      "Epoch 20/50\n",
      "1/1 [==============================] - 0s 0s/step - loss: 2.8601\n",
      "Epoch 21/50\n",
      "1/1 [==============================] - 0s 0s/step - loss: 2.8394\n",
      "Epoch 22/50\n",
      "1/1 [==============================] - 0s 16ms/step - loss: 2.8181\n",
      "Epoch 23/50\n",
      "1/1 [==============================] - 0s 0s/step - loss: 2.7961\n",
      "Epoch 24/50\n",
      "1/1 [==============================] - 0s 0s/step - loss: 2.7734\n",
      "Epoch 25/50\n",
      "1/1 [==============================] - 0s 0s/step - loss: 2.7500\n",
      "Epoch 26/50\n",
      "1/1 [==============================] - 0s 16ms/step - loss: 2.7257\n",
      "Epoch 27/50\n",
      "1/1 [==============================] - 0s 0s/step - loss: 2.7007\n",
      "Epoch 28/50\n",
      "1/1 [==============================] - 0s 0s/step - loss: 2.6749\n",
      "Epoch 29/50\n",
      "1/1 [==============================] - 0s 0s/step - loss: 2.6482\n",
      "Epoch 30/50\n",
      "1/1 [==============================] - 0s 0s/step - loss: 2.6206\n",
      "Epoch 31/50\n",
      "1/1 [==============================] - 0s 15ms/step - loss: 2.5921\n",
      "Epoch 32/50\n",
      "1/1 [==============================] - 0s 1ms/step - loss: 2.5628\n",
      "Epoch 33/50\n",
      "1/1 [==============================] - 0s 0s/step - loss: 2.5325\n",
      "Epoch 34/50\n",
      "1/1 [==============================] - 0s 8ms/step - loss: 2.5013\n",
      "Epoch 35/50\n",
      "1/1 [==============================] - 0s 0s/step - loss: 2.4691\n",
      "Epoch 36/50\n",
      "1/1 [==============================] - 0s 8ms/step - loss: 2.4359\n",
      "Epoch 37/50\n",
      "1/1 [==============================] - 0s 1ms/step - loss: 2.4018\n",
      "Epoch 38/50\n",
      "1/1 [==============================] - 0s 0s/step - loss: 2.3667\n",
      "Epoch 39/50\n",
      "1/1 [==============================] - 0s 0s/step - loss: 2.3306\n",
      "Epoch 40/50\n",
      "1/1 [==============================] - 0s 0s/step - loss: 2.2936\n",
      "Epoch 41/50\n",
      "1/1 [==============================] - 0s 0s/step - loss: 2.2555\n",
      "Epoch 42/50\n",
      "1/1 [==============================] - 0s 2ms/step - loss: 2.2165\n",
      "Epoch 43/50\n",
      "1/1 [==============================] - 0s 0s/step - loss: 2.1766\n",
      "Epoch 44/50\n",
      "1/1 [==============================] - 0s 0s/step - loss: 2.1357\n",
      "Epoch 45/50\n",
      "1/1 [==============================] - 0s 0s/step - loss: 2.0939\n",
      "Epoch 46/50\n",
      "1/1 [==============================] - 0s 0s/step - loss: 2.0512\n",
      "Epoch 47/50\n",
      "1/1 [==============================] - 0s 2ms/step - loss: 2.0077\n",
      "Epoch 48/50\n",
      "1/1 [==============================] - 0s 0s/step - loss: 1.9633\n",
      "Epoch 49/50\n",
      "1/1 [==============================] - 0s 0s/step - loss: 1.9182\n",
      "Epoch 50/50\n",
      "1/1 [==============================] - 0s 0s/step - loss: 1.8723\n"
     ]
    },
    {
     "data": {
      "text/plain": [
       "<keras.src.callbacks.History at 0x18b7bf2f040>"
      ]
     },
     "execution_count": 12,
     "metadata": {},
     "output_type": "execute_result"
    }
   ],
   "source": [
    "model.fit(x,y,epochs=50)"
   ]
  },
  {
   "cell_type": "code",
   "execution_count": 13,
   "id": "4f4bc7eb",
   "metadata": {},
   "outputs": [],
   "source": [
    "def generate_next_word(seed_text):\n",
    "    seed_sequence=tokenizer(seed_text)\n",
    "    predicted_probabilities=model.predict(seed_sequence)\n",
    "    predicted_index=np.argmax(predicted_probabilities)\n",
    "    predicted_word=tokenizer.get_vocabulary()[predicted_index]\n",
    "    return predicted_word"
   ]
  },
  {
   "cell_type": "code",
   "execution_count": 16,
   "id": "9bfbe705",
   "metadata": {},
   "outputs": [
    {
     "name": "stdout",
     "output_type": "stream",
     "text": [
      "1/1 [==============================] - 0s 18ms/step\n",
      "Input:'used',Predicted:'to'\n"
     ]
    }
   ],
   "source": [
    "input_text='used'\n",
    "predicted_word=generate_next_word(input_text)\n",
    "print(f\"Input:'{input_text}',Predicted:'{predicted_word}'\")"
   ]
  },
  {
   "cell_type": "markdown",
   "id": "5f518c69",
   "metadata": {},
   "source": [
    "# Using LSTM"
   ]
  },
  {
   "cell_type": "code",
   "execution_count": 17,
   "id": "50efaf5f",
   "metadata": {},
   "outputs": [],
   "source": [
    "import tensorflow as tf\n",
    "import numpy as np\n",
    "\n",
    "# Sample text data\n",
    "text = \"This is a sample text used to demonstrate predictive text with LSTM. In this example, we'll predict the next word as you type.\"\n"
   ]
  },
  {
   "cell_type": "code",
   "execution_count": 18,
   "id": "71cef898",
   "metadata": {},
   "outputs": [],
   "source": [
    "tokenizer=tf.keras.layers.TextVectorization()\n",
    "tokenizer.adapt(text.split())"
   ]
  },
  {
   "cell_type": "code",
   "execution_count": 19,
   "id": "eaec86c9",
   "metadata": {},
   "outputs": [],
   "source": [
    "text_sequences=tokenizer(text)\n"
   ]
  },
  {
   "cell_type": "code",
   "execution_count": 20,
   "id": "7b2ed5fe",
   "metadata": {},
   "outputs": [],
   "source": [
    "x=text_sequences[:-1]\n",
    "y=text_sequences[1:]"
   ]
  },
  {
   "cell_type": "code",
   "execution_count": 26,
   "id": "01b7d051",
   "metadata": {},
   "outputs": [],
   "source": [
    "model=tf.keras.Sequential([\n",
    "    tf.keras.layers.Embedding(input_dim=len(tokenizer.get_vocabulary()),output_dim=64,input_length=1),\n",
    "    tf.keras.layers.LSTM(128,return_sequences=True),\n",
    "    tf.keras.layers.Dense(len(tokenizer.get_vocabulary()),activation='softmax')\n",
    "])"
   ]
  },
  {
   "cell_type": "code",
   "execution_count": 27,
   "id": "72487e59",
   "metadata": {},
   "outputs": [],
   "source": [
    "model.compile(loss='sparse_categorical_crossentropy',optimizer='adam')"
   ]
  },
  {
   "cell_type": "code",
   "execution_count": 28,
   "id": "48dfce99",
   "metadata": {},
   "outputs": [
    {
     "name": "stdout",
     "output_type": "stream",
     "text": [
      "Epoch 1/50\n",
      "1/1 [==============================] - 1s 849ms/step - loss: 3.1360\n",
      "Epoch 2/50\n",
      "1/1 [==============================] - 0s 6ms/step - loss: 3.1333\n",
      "Epoch 3/50\n",
      "1/1 [==============================] - 0s 0s/step - loss: 3.1306\n",
      "Epoch 4/50\n",
      "1/1 [==============================] - 0s 0s/step - loss: 3.1279\n",
      "Epoch 5/50\n",
      "1/1 [==============================] - 0s 0s/step - loss: 3.1251\n",
      "Epoch 6/50\n",
      "1/1 [==============================] - 0s 2ms/step - loss: 3.1223\n",
      "Epoch 7/50\n",
      "1/1 [==============================] - 0s 0s/step - loss: 3.1195\n",
      "Epoch 8/50\n",
      "1/1 [==============================] - 0s 0s/step - loss: 3.1167\n",
      "Epoch 9/50\n",
      "1/1 [==============================] - 0s 16ms/step - loss: 3.1138\n",
      "Epoch 10/50\n",
      "1/1 [==============================] - 0s 0s/step - loss: 3.1108\n",
      "Epoch 11/50\n",
      "1/1 [==============================] - 0s 0s/step - loss: 3.1077\n",
      "Epoch 12/50\n",
      "1/1 [==============================] - 0s 0s/step - loss: 3.1046\n",
      "Epoch 13/50\n",
      "1/1 [==============================] - 0s 17ms/step - loss: 3.1013\n",
      "Epoch 14/50\n",
      "1/1 [==============================] - 0s 0s/step - loss: 3.0979\n",
      "Epoch 15/50\n",
      "1/1 [==============================] - 0s 0s/step - loss: 3.0945\n",
      "Epoch 16/50\n",
      "1/1 [==============================] - 0s 0s/step - loss: 3.0908\n",
      "Epoch 17/50\n",
      "1/1 [==============================] - 0s 17ms/step - loss: 3.0871\n",
      "Epoch 18/50\n",
      "1/1 [==============================] - 0s 0s/step - loss: 3.0832\n",
      "Epoch 19/50\n",
      "1/1 [==============================] - 0s 0s/step - loss: 3.0791\n",
      "Epoch 20/50\n",
      "1/1 [==============================] - 0s 16ms/step - loss: 3.0749\n",
      "Epoch 21/50\n",
      "1/1 [==============================] - 0s 0s/step - loss: 3.0704\n",
      "Epoch 22/50\n",
      "1/1 [==============================] - 0s 0s/step - loss: 3.0658\n",
      "Epoch 23/50\n",
      "1/1 [==============================] - 0s 13ms/step - loss: 3.0610\n",
      "Epoch 24/50\n",
      "1/1 [==============================] - 0s 4ms/step - loss: 3.0559\n",
      "Epoch 25/50\n",
      "1/1 [==============================] - 0s 0s/step - loss: 3.0506\n",
      "Epoch 26/50\n",
      "1/1 [==============================] - 0s 0s/step - loss: 3.0451\n",
      "Epoch 27/50\n",
      "1/1 [==============================] - 0s 16ms/step - loss: 3.0393\n",
      "Epoch 28/50\n",
      "1/1 [==============================] - 0s 4ms/step - loss: 3.0332\n",
      "Epoch 29/50\n",
      "1/1 [==============================] - 0s 0s/step - loss: 3.0268\n",
      "Epoch 30/50\n",
      "1/1 [==============================] - 0s 11ms/step - loss: 3.0201\n",
      "Epoch 31/50\n",
      "1/1 [==============================] - 0s 4ms/step - loss: 3.0132\n",
      "Epoch 32/50\n",
      "1/1 [==============================] - 0s 5ms/step - loss: 3.0059\n",
      "Epoch 33/50\n",
      "1/1 [==============================] - 0s 4ms/step - loss: 2.9982\n",
      "Epoch 34/50\n",
      "1/1 [==============================] - 0s 0s/step - loss: 2.9902\n",
      "Epoch 35/50\n",
      "1/1 [==============================] - 0s 0s/step - loss: 2.9818\n",
      "Epoch 36/50\n",
      "1/1 [==============================] - 0s 16ms/step - loss: 2.9730\n",
      "Epoch 37/50\n",
      "1/1 [==============================] - 0s 0s/step - loss: 2.9638\n",
      "Epoch 38/50\n",
      "1/1 [==============================] - 0s 0s/step - loss: 2.9542\n",
      "Epoch 39/50\n",
      "1/1 [==============================] - 0s 16ms/step - loss: 2.9441\n",
      "Epoch 40/50\n",
      "1/1 [==============================] - 0s 0s/step - loss: 2.9336\n",
      "Epoch 41/50\n",
      "1/1 [==============================] - 0s 0s/step - loss: 2.9225\n",
      "Epoch 42/50\n",
      "1/1 [==============================] - 0s 13ms/step - loss: 2.9110\n",
      "Epoch 43/50\n",
      "1/1 [==============================] - 0s 4ms/step - loss: 2.8990\n",
      "Epoch 44/50\n",
      "1/1 [==============================] - 0s 0s/step - loss: 2.8864\n",
      "Epoch 45/50\n",
      "1/1 [==============================] - 0s 0s/step - loss: 2.8732\n",
      "Epoch 46/50\n",
      "1/1 [==============================] - 0s 14ms/step - loss: 2.8595\n",
      "Epoch 47/50\n",
      "1/1 [==============================] - 0s 0s/step - loss: 2.8451\n",
      "Epoch 48/50\n",
      "1/1 [==============================] - 0s 0s/step - loss: 2.8302\n",
      "Epoch 49/50\n",
      "1/1 [==============================] - 0s 15ms/step - loss: 2.8146\n",
      "Epoch 50/50\n",
      "1/1 [==============================] - 0s 1ms/step - loss: 2.7983\n"
     ]
    },
    {
     "data": {
      "text/plain": [
       "<keras.src.callbacks.History at 0x18b7ebb0880>"
      ]
     },
     "execution_count": 28,
     "metadata": {},
     "output_type": "execute_result"
    }
   ],
   "source": [
    "model.fit(x,y,epochs=50)"
   ]
  },
  {
   "cell_type": "code",
   "execution_count": 29,
   "id": "7709169a",
   "metadata": {},
   "outputs": [],
   "source": [
    "def generate_next_word(seed_text):\n",
    "    seed_sequence=tokenizer(seed_text)\n",
    "    predicted_probabilities=model.predict(seed_sequence)\n",
    "    predicted_index=np.argmax(predicted_probabilities)\n",
    "    predicted_word=tokenizer.get_vocabulary()[predicted_index]\n",
    "    return predicted_word"
   ]
  },
  {
   "cell_type": "code",
   "execution_count": 30,
   "id": "7ebceb17",
   "metadata": {},
   "outputs": [
    {
     "name": "stdout",
     "output_type": "stream",
     "text": [
      "1/1 [==============================] - 0s 164ms/step\n",
      "Input:'this is',predicted:'example'\n"
     ]
    }
   ],
   "source": [
    "input_text=\"this is\"\n",
    "predicted_word= generate_next_word(input_text)\n",
    "print(f\"Input:'{input_text}',predicted:'{predicted_word}'\")"
   ]
  },
  {
   "cell_type": "code",
   "execution_count": null,
   "id": "190e07b9",
   "metadata": {},
   "outputs": [],
   "source": []
  }
 ],
 "metadata": {
  "kernelspec": {
   "display_name": "Python 3 (ipykernel)",
   "language": "python",
   "name": "python3"
  },
  "language_info": {
   "codemirror_mode": {
    "name": "ipython",
    "version": 3
   },
   "file_extension": ".py",
   "mimetype": "text/x-python",
   "name": "python",
   "nbconvert_exporter": "python",
   "pygments_lexer": "ipython3",
   "version": "3.9.13"
  }
 },
 "nbformat": 4,
 "nbformat_minor": 5
}
