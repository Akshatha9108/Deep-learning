{
 "cells": [
  {
   "cell_type": "code",
   "execution_count": 1,
   "id": "d35697ca",
   "metadata": {},
   "outputs": [],
   "source": [
    "import tensorflow as tf\n",
    "from tensorflow import keras\n",
    "from tensorflow.keras import layers"
   ]
  },
  {
   "cell_type": "code",
   "execution_count": 3,
   "id": "1056df4c",
   "metadata": {},
   "outputs": [
    {
     "name": "stdout",
     "output_type": "stream",
     "text": [
      "Downloading data from https://www.cs.toronto.edu/~kriz/cifar-10-python.tar.gz\n",
      "170498071/170498071 [==============================] - 233s 1us/step\n"
     ]
    }
   ],
   "source": [
    "#load datasset\n",
    "(train_images,train_labels),(test_images,test_labels)=keras.datasets.cifar10.load_data()"
   ]
  },
  {
   "cell_type": "code",
   "execution_count": 4,
   "id": "c05fb4e8",
   "metadata": {},
   "outputs": [],
   "source": [
    "#normalize pixel\n",
    "train_images=train_images/255.0\n",
    "test_images=test_images/255.0"
   ]
  },
  {
   "cell_type": "code",
   "execution_count": 7,
   "id": "db5af141",
   "metadata": {},
   "outputs": [],
   "source": [
    "#define the CNN model architecture\n",
    "model=keras.Sequential([\n",
    "    layers.Conv2D(32,(3,3),activation='relu',input_shape=(32,32,3)),\n",
    "    layers.MaxPooling2D((2,2)),\n",
    "    layers.Conv2D(64,(3,3),activation='relu'),\n",
    "    layers.MaxPooling2D((2,2)),\n",
    "    layers.Conv2D(32,(3,3),activation='relu'),\n",
    "    layers.Flatten(),\n",
    "    layers.Dense(64,activation='relu'),\n",
    "    layers.Dense(10)\n",
    "])"
   ]
  },
  {
   "cell_type": "code",
   "execution_count": 8,
   "id": "58a9a50f",
   "metadata": {},
   "outputs": [],
   "source": [
    "#complie model\n",
    "model.compile(optimizer=\"adam\",\n",
    "             loss=tf.keras.losses.SparseCategoricalCrossentropy(from_logits=True),\n",
    "                                                               metrics=['accuracy'])"
   ]
  },
  {
   "cell_type": "code",
   "execution_count": 9,
   "id": "273acb40",
   "metadata": {},
   "outputs": [
    {
     "name": "stdout",
     "output_type": "stream",
     "text": [
      "Epoch 1/10\n",
      "1563/1563 [==============================] - 17s 11ms/step - loss: 1.6293 - accuracy: 0.4014 - val_loss: 1.3995 - val_accuracy: 0.4902\n",
      "Epoch 2/10\n",
      "1563/1563 [==============================] - 17s 11ms/step - loss: 1.3111 - accuracy: 0.5307 - val_loss: 1.2475 - val_accuracy: 0.5565\n",
      "Epoch 3/10\n",
      "1563/1563 [==============================] - 17s 11ms/step - loss: 1.1730 - accuracy: 0.5835 - val_loss: 1.1166 - val_accuracy: 0.5991\n",
      "Epoch 4/10\n",
      "1563/1563 [==============================] - 17s 11ms/step - loss: 1.0745 - accuracy: 0.6187 - val_loss: 1.0536 - val_accuracy: 0.6295\n",
      "Epoch 5/10\n",
      "1563/1563 [==============================] - 17s 11ms/step - loss: 0.9918 - accuracy: 0.6504 - val_loss: 1.0709 - val_accuracy: 0.6276\n",
      "Epoch 6/10\n",
      "1563/1563 [==============================] - 17s 11ms/step - loss: 0.9338 - accuracy: 0.6719 - val_loss: 0.9664 - val_accuracy: 0.6699\n",
      "Epoch 7/10\n",
      "1563/1563 [==============================] - 17s 11ms/step - loss: 0.8947 - accuracy: 0.6857 - val_loss: 0.9443 - val_accuracy: 0.6705\n",
      "Epoch 8/10\n",
      "1563/1563 [==============================] - 17s 11ms/step - loss: 0.8535 - accuracy: 0.7004 - val_loss: 0.9536 - val_accuracy: 0.6738\n",
      "Epoch 9/10\n",
      "1563/1563 [==============================] - 17s 11ms/step - loss: 0.8213 - accuracy: 0.7116 - val_loss: 0.9567 - val_accuracy: 0.6679\n",
      "Epoch 10/10\n",
      "1563/1563 [==============================] - 17s 11ms/step - loss: 0.7888 - accuracy: 0.7221 - val_loss: 0.9087 - val_accuracy: 0.6915\n"
     ]
    }
   ],
   "source": [
    "history=model.fit(train_images,train_labels,epochs=10,validation_data=(test_images,test_labels))"
   ]
  },
  {
   "cell_type": "code",
   "execution_count": 10,
   "id": "4711ea71",
   "metadata": {},
   "outputs": [
    {
     "name": "stdout",
     "output_type": "stream",
     "text": [
      "313/313 - 1s - loss: 0.9087 - accuracy: 0.6915 - 1s/epoch - 4ms/step\n",
      "\n",
      "Test accuracy: 0.6915000081062317\n",
      "313/313 [==============================] - 1s 4ms/step\n"
     ]
    }
   ],
   "source": [
    "test_loss,test_acc=model.evaluate(test_images,test_labels,verbose=2)\n",
    "print('\\nTest accuracy:',test_acc)\n",
    "\n",
    "predictions=model.predict(test_images)"
   ]
  },
  {
   "cell_type": "code",
   "execution_count": null,
   "id": "4d1d16a4",
   "metadata": {},
   "outputs": [],
   "source": []
  }
 ],
 "metadata": {
  "kernelspec": {
   "display_name": "Python 3 (ipykernel)",
   "language": "python",
   "name": "python3"
  },
  "language_info": {
   "codemirror_mode": {
    "name": "ipython",
    "version": 3
   },
   "file_extension": ".py",
   "mimetype": "text/x-python",
   "name": "python",
   "nbconvert_exporter": "python",
   "pygments_lexer": "ipython3",
   "version": "3.9.13"
  }
 },
 "nbformat": 4,
 "nbformat_minor": 5
}
